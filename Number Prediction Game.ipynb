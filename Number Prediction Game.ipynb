{
 "cells": [
  {
   "cell_type": "code",
   "execution_count": null,
   "metadata": {},
   "outputs": [
    {
     "name": "stdout",
     "output_type": "stream",
     "text": [
      "enter the first number: 2\n",
      "enter the second number: 3\n",
      "now you have 6 chances to predict the number.......\n",
      "start\n",
      "enter the guessing number4\n",
      "you predicted a number that is greater than the number to be predicted\n"
     ]
    }
   ],
   "source": [
    "import numpy as np\n",
    "x=int(input(\"enter the first number: \"))\n",
    "y=int(input(\"enter the second number: \"))\n",
    "ren=np.random.randint(x,y)\n",
    "print(\"now you have 6 chances to predict the number.......\")\n",
    "print(\"start\")\n",
    "for i in range(0,6):\n",
    "    cr=int(input(\"enter the guessing number\"))\n",
    "    if(cr==ren):\n",
    "        print(\"you guessed it\")\n",
    "        break\n",
    "    elif(cr>ren):\n",
    "        print(\"you predicted a number that is greater than the number to be predicted\")\n",
    "    elif(cr<ren):\n",
    "        print(\"you predicted a number that is lesser than the number to be predicted\")\n",
    "    else:\n",
    "        print(\"out of range\")\n",
    "print(\"thank you for playing the number prediction game!\")"
   ]
  },
  {
   "cell_type": "code",
   "execution_count": null,
   "metadata": {},
   "outputs": [],
   "source": []
  }
 ],
 "metadata": {
  "kernelspec": {
   "display_name": "Python 3",
   "language": "python",
   "name": "python3"
  },
  "language_info": {
   "codemirror_mode": {
    "name": "ipython",
    "version": 3
   },
   "file_extension": ".py",
   "mimetype": "text/x-python",
   "name": "python",
   "nbconvert_exporter": "python",
   "pygments_lexer": "ipython3",
   "version": "3.6.5"
  }
 },
 "nbformat": 4,
 "nbformat_minor": 2
}
